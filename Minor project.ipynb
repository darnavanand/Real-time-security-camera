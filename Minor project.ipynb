{
 "cells": [
  {
   "cell_type": "code",
   "execution_count": 1,
   "id": "b2447225",
   "metadata": {},
   "outputs": [
    {
     "name": "stdout",
     "output_type": "stream",
     "text": [
      "<class 'pandas.core.frame.DataFrame'>\n",
      "RangeIndex: 20050 entries, 0 to 20049\n",
      "Data columns (total 26 columns):\n",
      " #   Column                 Non-Null Count  Dtype  \n",
      "---  ------                 --------------  -----  \n",
      " 0   _unit_id               20050 non-null  int64  \n",
      " 1   _golden                20050 non-null  bool   \n",
      " 2   _unit_state            20050 non-null  object \n",
      " 3   _trusted_judgments     20050 non-null  int64  \n",
      " 4   _last_judgment_at      20000 non-null  object \n",
      " 5   gender                 19953 non-null  object \n",
      " 6   gender:confidence      20024 non-null  float64\n",
      " 7   profile_yn             20050 non-null  object \n",
      " 8   profile_yn:confidence  20050 non-null  float64\n",
      " 9   created                20050 non-null  object \n",
      " 10  description            16306 non-null  object \n",
      " 11  fav_number             20050 non-null  int64  \n",
      " 12  gender_gold            50 non-null     object \n",
      " 13  link_color             20050 non-null  object \n",
      " 14  name                   20050 non-null  object \n",
      " 15  profile_yn_gold        50 non-null     object \n",
      " 16  profileimage           20050 non-null  object \n",
      " 17  retweet_count          20050 non-null  int64  \n",
      " 18  sidebar_color          20050 non-null  object \n",
      " 19  text                   20050 non-null  object \n",
      " 20  tweet_coord            159 non-null    object \n",
      " 21  tweet_count            20050 non-null  int64  \n",
      " 22  tweet_created          20050 non-null  object \n",
      " 23  tweet_id               20050 non-null  float64\n",
      " 24  tweet_location         12566 non-null  object \n",
      " 25  user_timezone          12252 non-null  object \n",
      "dtypes: bool(1), float64(3), int64(5), object(17)\n",
      "memory usage: 3.8+ MB\n"
     ]
    }
   ],
   "source": [
    "import os\n",
    "os.chdir('C:\\\\Users\\\\Arnav Anand\\\\OneDrive\\\\Documents\\\\Dataset\\\\Gender')\n",
    "import pandas as pd\n",
    "df=pd.read_csv('gender-classifier-DFE-791531.csv')\n",
    "df.info()"
   ]
  },
  {
   "cell_type": "code",
   "execution_count": 2,
   "id": "bb65474f",
   "metadata": {},
   "outputs": [],
   "source": [
    "df=df.drop(['_unit_state','_unit_id','_golden','_last_judgment_at','created','tweet_created','description','profileimage','text','tweet_id','gender_gold','profile_yn_gold','tweet_coord','user_timezone'],axis=1)"
   ]
  },
  {
   "cell_type": "code",
   "execution_count": 3,
   "id": "47a027b5",
   "metadata": {},
   "outputs": [
    {
     "name": "stdout",
     "output_type": "stream",
     "text": [
      "<class 'pandas.core.frame.DataFrame'>\n",
      "RangeIndex: 20050 entries, 0 to 20049\n",
      "Data columns (total 12 columns):\n",
      " #   Column                 Non-Null Count  Dtype  \n",
      "---  ------                 --------------  -----  \n",
      " 0   _trusted_judgments     20050 non-null  int64  \n",
      " 1   gender                 19953 non-null  object \n",
      " 2   gender:confidence      20024 non-null  float64\n",
      " 3   profile_yn             20050 non-null  object \n",
      " 4   profile_yn:confidence  20050 non-null  float64\n",
      " 5   fav_number             20050 non-null  int64  \n",
      " 6   link_color             20050 non-null  object \n",
      " 7   name                   20050 non-null  object \n",
      " 8   retweet_count          20050 non-null  int64  \n",
      " 9   sidebar_color          20050 non-null  object \n",
      " 10  tweet_count            20050 non-null  int64  \n",
      " 11  tweet_location         12566 non-null  object \n",
      "dtypes: float64(2), int64(4), object(6)\n",
      "memory usage: 1.8+ MB\n"
     ]
    }
   ],
   "source": [
    "df.info()"
   ]
  },
  {
   "cell_type": "code",
   "execution_count": 4,
   "id": "f67a1a93",
   "metadata": {},
   "outputs": [
    {
     "name": "stdout",
     "output_type": "stream",
     "text": [
      "<class 'pandas.core.frame.DataFrame'>\n",
      "Int64Index: 12991 entries, 0 to 20049\n",
      "Data columns (total 12 columns):\n",
      " #   Column                 Non-Null Count  Dtype  \n",
      "---  ------                 --------------  -----  \n",
      " 0   _trusted_judgments     12991 non-null  int64  \n",
      " 1   gender                 12894 non-null  object \n",
      " 2   gender:confidence      12965 non-null  float64\n",
      " 3   profile_yn             12991 non-null  object \n",
      " 4   profile_yn:confidence  12991 non-null  float64\n",
      " 5   fav_number             12991 non-null  int64  \n",
      " 6   link_color             12991 non-null  object \n",
      " 7   name                   12991 non-null  object \n",
      " 8   retweet_count          12991 non-null  int64  \n",
      " 9   sidebar_color          12991 non-null  object \n",
      " 10  tweet_count            12991 non-null  int64  \n",
      " 11  tweet_location         8802 non-null   object \n",
      "dtypes: float64(2), int64(4), object(6)\n",
      "memory usage: 1.3+ MB\n"
     ]
    }
   ],
   "source": [
    "df=df[df.gender != 'brand']\n",
    "df=df[df.gender != 'unknown']\n",
    "\n",
    "df.info()"
   ]
  },
  {
   "cell_type": "code",
   "execution_count": 5,
   "id": "3ba28f00",
   "metadata": {},
   "outputs": [
    {
     "name": "stdout",
     "output_type": "stream",
     "text": [
      "<class 'pandas.core.frame.DataFrame'>\n",
      "Int64Index: 12894 entries, 0 to 20049\n",
      "Data columns (total 12 columns):\n",
      " #   Column                 Non-Null Count  Dtype  \n",
      "---  ------                 --------------  -----  \n",
      " 0   _trusted_judgments     12894 non-null  int64  \n",
      " 1   gender                 12894 non-null  object \n",
      " 2   gender:confidence      12894 non-null  float64\n",
      " 3   profile_yn             12894 non-null  object \n",
      " 4   profile_yn:confidence  12894 non-null  float64\n",
      " 5   fav_number             12894 non-null  int64  \n",
      " 6   link_color             12894 non-null  object \n",
      " 7   name                   12894 non-null  object \n",
      " 8   retweet_count          12894 non-null  int64  \n",
      " 9   sidebar_color          12894 non-null  object \n",
      " 10  tweet_count            12894 non-null  int64  \n",
      " 11  tweet_location         8747 non-null   object \n",
      "dtypes: float64(2), int64(4), object(6)\n",
      "memory usage: 1.3+ MB\n"
     ]
    }
   ],
   "source": [
    "missing=df[df['gender'].isnull()].index.tolist()\n",
    "df = df.drop(labels=missing, axis=0)\n",
    "df.info()"
   ]
  },
  {
   "cell_type": "code",
   "execution_count": 6,
   "id": "15cfe08f",
   "metadata": {},
   "outputs": [
    {
     "name": "stdout",
     "output_type": "stream",
     "text": [
      "<class 'pandas.core.frame.DataFrame'>\n",
      "Int64Index: 12894 entries, 0 to 20049\n",
      "Data columns (total 11 columns):\n",
      " #   Column                 Non-Null Count  Dtype  \n",
      "---  ------                 --------------  -----  \n",
      " 0   _trusted_judgments     12894 non-null  int64  \n",
      " 1   gender                 12894 non-null  object \n",
      " 2   gender:confidence      12894 non-null  float64\n",
      " 3   profile_yn             12894 non-null  object \n",
      " 4   profile_yn:confidence  12894 non-null  float64\n",
      " 5   fav_number             12894 non-null  int64  \n",
      " 6   link_color             12894 non-null  object \n",
      " 7   retweet_count          12894 non-null  int64  \n",
      " 8   sidebar_color          12894 non-null  object \n",
      " 9   tweet_count            12894 non-null  int64  \n",
      " 10  tweet_location         8747 non-null   object \n",
      "dtypes: float64(2), int64(4), object(5)\n",
      "memory usage: 1.2+ MB\n"
     ]
    }
   ],
   "source": [
    "df=df.drop(['name'],axis=1)\n",
    "df.info()"
   ]
  },
  {
   "cell_type": "code",
   "execution_count": 7,
   "id": "f7884627",
   "metadata": {},
   "outputs": [
    {
     "name": "stdout",
     "output_type": "stream",
     "text": [
      "<class 'pandas.core.frame.DataFrame'>\n",
      "Int64Index: 12894 entries, 0 to 20049\n",
      "Data columns (total 11 columns):\n",
      " #   Column                 Non-Null Count  Dtype  \n",
      "---  ------                 --------------  -----  \n",
      " 0   _trusted_judgments     12894 non-null  int64  \n",
      " 1   gender                 12894 non-null  int32  \n",
      " 2   gender:confidence      12894 non-null  float64\n",
      " 3   profile_yn             12894 non-null  int32  \n",
      " 4   profile_yn:confidence  12894 non-null  float64\n",
      " 5   fav_number             12894 non-null  int64  \n",
      " 6   link_color             12894 non-null  int32  \n",
      " 7   retweet_count          12894 non-null  int64  \n",
      " 8   sidebar_color          12894 non-null  int32  \n",
      " 9   tweet_count            12894 non-null  int64  \n",
      " 10  tweet_location         12894 non-null  int32  \n",
      "dtypes: float64(2), int32(5), int64(4)\n",
      "memory usage: 957.0 KB\n"
     ]
    }
   ],
   "source": [
    "from sklearn.preprocessing import LabelEncoder\n",
    "cat_col = set(df.columns) - set(df.describe().columns)\n",
    "for each_col in cat_col:\n",
    "    le = LabelEncoder()\n",
    "    df[each_col] = le.fit_transform(df[each_col])\n",
    "    \n",
    "df.info()"
   ]
  },
  {
   "cell_type": "code",
   "execution_count": 8,
   "id": "b2350570",
   "metadata": {},
   "outputs": [],
   "source": [
    "from sklearn.ensemble import RandomForestClassifier\n",
    "from sklearn.svm import SVC\n",
    "svm = SVC()\n",
    "rfc = RandomForestClassifier()"
   ]
  },
  {
   "cell_type": "code",
   "execution_count": 9,
   "id": "10873d77",
   "metadata": {},
   "outputs": [
    {
     "data": {
      "text/plain": [
       "Index(['_trusted_judgments', 'gender', 'gender:confidence', 'profile_yn',\n",
       "       'profile_yn:confidence', 'fav_number', 'link_color', 'retweet_count',\n",
       "       'sidebar_color', 'tweet_count', 'tweet_location'],\n",
       "      dtype='object')"
      ]
     },
     "execution_count": 9,
     "metadata": {},
     "output_type": "execute_result"
    }
   ],
   "source": [
    "df.columns"
   ]
  },
  {
   "cell_type": "code",
   "execution_count": 10,
   "id": "eeec8b28",
   "metadata": {},
   "outputs": [],
   "source": [
    "X=df[['_trusted_judgments', 'gender', 'gender:confidence', 'profile_yn',\n",
    "       'profile_yn:confidence', 'fav_number', 'link_color', 'retweet_count',\n",
    "       'sidebar_color', 'tweet_count']].values\n",
    "Y=df[['gender']].values"
   ]
  },
  {
   "cell_type": "code",
   "execution_count": 11,
   "id": "c236d552",
   "metadata": {},
   "outputs": [],
   "source": [
    "from sklearn.preprocessing import MinMaxScaler"
   ]
  },
  {
   "cell_type": "code",
   "execution_count": 12,
   "id": "52c8bc13",
   "metadata": {},
   "outputs": [],
   "source": [
    "normalized_data = MinMaxScaler().fit_transform(X)"
   ]
  },
  {
   "cell_type": "code",
   "execution_count": 13,
   "id": "712b9f3e",
   "metadata": {},
   "outputs": [],
   "source": [
    "from sklearn.model_selection import train_test_split"
   ]
  },
  {
   "cell_type": "code",
   "execution_count": 14,
   "id": "30e2c8d3",
   "metadata": {},
   "outputs": [],
   "source": [
    "X_train, X_test, Y_train, Y_test = train_test_split(normalized_data, Y, train_size=0.75)"
   ]
  },
  {
   "cell_type": "code",
   "execution_count": 15,
   "id": "364cdd95",
   "metadata": {},
   "outputs": [
    {
     "name": "stderr",
     "output_type": "stream",
     "text": [
      "C:\\ProgramData\\Anaconda3\\lib\\site-packages\\sklearn\\utils\\validation.py:63: DataConversionWarning: A column-vector y was passed when a 1d array was expected. Please change the shape of y to (n_samples, ), for example using ravel().\n",
      "  return f(*args, **kwargs)\n"
     ]
    },
    {
     "data": {
      "text/plain": [
       "SVC()"
      ]
     },
     "execution_count": 15,
     "metadata": {},
     "output_type": "execute_result"
    }
   ],
   "source": [
    "svm.fit(X_train, Y_train)"
   ]
  },
  {
   "cell_type": "code",
   "execution_count": 16,
   "id": "34e475cf",
   "metadata": {},
   "outputs": [
    {
     "name": "stderr",
     "output_type": "stream",
     "text": [
      "<ipython-input-16-96e8a0ce9cd3>:1: DataConversionWarning: A column-vector y was passed when a 1d array was expected. Please change the shape of y to (n_samples,), for example using ravel().\n",
      "  rfc.fit(X_train, Y_train)\n"
     ]
    },
    {
     "data": {
      "text/plain": [
       "RandomForestClassifier()"
      ]
     },
     "execution_count": 16,
     "metadata": {},
     "output_type": "execute_result"
    }
   ],
   "source": [
    "rfc.fit(X_train, Y_train)"
   ]
  },
  {
   "cell_type": "code",
   "execution_count": 17,
   "id": "f7d083eb",
   "metadata": {},
   "outputs": [],
   "source": [
    "Y_pred_rfc = rfc.predict(X_test)\n",
    "Y_pred_svm = svm.predict(X_test)"
   ]
  },
  {
   "cell_type": "code",
   "execution_count": 18,
   "id": "6c70a7b8",
   "metadata": {},
   "outputs": [],
   "source": [
    "from sklearn.metrics import accuracy_score"
   ]
  },
  {
   "cell_type": "code",
   "execution_count": 19,
   "id": "bcff32e1",
   "metadata": {},
   "outputs": [
    {
     "data": {
      "text/plain": [
       "1.0"
      ]
     },
     "execution_count": 19,
     "metadata": {},
     "output_type": "execute_result"
    }
   ],
   "source": [
    "accuracy_score(Y_test, Y_pred_svm)"
   ]
  },
  {
   "cell_type": "code",
   "execution_count": 20,
   "id": "64d4d0a7",
   "metadata": {},
   "outputs": [
    {
     "data": {
      "text/plain": [
       "1.0"
      ]
     },
     "execution_count": 20,
     "metadata": {},
     "output_type": "execute_result"
    }
   ],
   "source": [
    "accuracy_score(Y_test, Y_pred_rfc)"
   ]
  },
  {
   "cell_type": "code",
   "execution_count": 21,
   "id": "9b4ea5c8",
   "metadata": {},
   "outputs": [],
   "source": [
    "from imblearn.under_sampling import RandomUnderSampler"
   ]
  },
  {
   "cell_type": "code",
   "execution_count": 22,
   "id": "0a4d0642",
   "metadata": {},
   "outputs": [],
   "source": [
    "rus = RandomUnderSampler()"
   ]
  },
  {
   "cell_type": "code",
   "execution_count": 23,
   "id": "0fcc7702",
   "metadata": {},
   "outputs": [],
   "source": [
    "X=df[['_trusted_judgments', 'gender', 'gender:confidence', 'profile_yn',\n",
    "       'profile_yn:confidence', 'fav_number', 'link_color', 'retweet_count',\n",
    "       'sidebar_color', 'tweet_count']]\n",
    "Y=df[['gender']]"
   ]
  },
  {
   "cell_type": "code",
   "execution_count": 24,
   "id": "4d586887",
   "metadata": {},
   "outputs": [],
   "source": [
    "X_bal, Y_bal = rus.fit_resample(X, Y)"
   ]
  },
  {
   "cell_type": "code",
   "execution_count": 25,
   "id": "b6ac528f",
   "metadata": {},
   "outputs": [
    {
     "data": {
      "text/plain": [
       "0    6194\n",
       "1    6194\n",
       "Name: gender, dtype: int64"
      ]
     },
     "execution_count": 25,
     "metadata": {},
     "output_type": "execute_result"
    }
   ],
   "source": [
    "Y_bal['gender'].value_counts()"
   ]
  },
  {
   "cell_type": "code",
   "execution_count": 26,
   "id": "523b67a9",
   "metadata": {},
   "outputs": [],
   "source": [
    "X_bal = X_bal.values"
   ]
  },
  {
   "cell_type": "code",
   "execution_count": 27,
   "id": "a93b3503",
   "metadata": {},
   "outputs": [],
   "source": [
    "Y_bal = Y_bal.values"
   ]
  },
  {
   "cell_type": "code",
   "execution_count": 28,
   "id": "3916a8f5",
   "metadata": {},
   "outputs": [],
   "source": [
    "X_train, X_test, Y_train, Y_test = train_test_split(X_bal, Y_bal, train_size=0.75)"
   ]
  },
  {
   "cell_type": "code",
   "execution_count": 29,
   "id": "c0c1c087",
   "metadata": {},
   "outputs": [
    {
     "name": "stderr",
     "output_type": "stream",
     "text": [
      "C:\\ProgramData\\Anaconda3\\lib\\site-packages\\sklearn\\utils\\validation.py:63: DataConversionWarning: A column-vector y was passed when a 1d array was expected. Please change the shape of y to (n_samples, ), for example using ravel().\n",
      "  return f(*args, **kwargs)\n",
      "<ipython-input-29-a3c327cb62f8>:2: DataConversionWarning: A column-vector y was passed when a 1d array was expected. Please change the shape of y to (n_samples,), for example using ravel().\n",
      "  rfc.fit(X_train, Y_train)\n"
     ]
    },
    {
     "data": {
      "text/plain": [
       "RandomForestClassifier()"
      ]
     },
     "execution_count": 29,
     "metadata": {},
     "output_type": "execute_result"
    }
   ],
   "source": [
    "svm.fit(X_train, Y_train)\n",
    "rfc.fit(X_train, Y_train)"
   ]
  },
  {
   "cell_type": "code",
   "execution_count": 30,
   "id": "c2aebd4b",
   "metadata": {},
   "outputs": [],
   "source": [
    "Y_pred_rfc_2 = rfc.predict(X_test)\n",
    "Y_pred_svm_2 = svm.predict(X_test)"
   ]
  },
  {
   "cell_type": "code",
   "execution_count": 31,
   "id": "098cc6e7",
   "metadata": {},
   "outputs": [
    {
     "data": {
      "text/plain": [
       "0.5405230868582499"
      ]
     },
     "execution_count": 31,
     "metadata": {},
     "output_type": "execute_result"
    }
   ],
   "source": [
    "accuracy_score(Y_test, Y_pred_svm_2)"
   ]
  },
  {
   "cell_type": "code",
   "execution_count": 32,
   "id": "135bb00b",
   "metadata": {},
   "outputs": [
    {
     "data": {
      "text/plain": [
       "1.0"
      ]
     },
     "execution_count": 32,
     "metadata": {},
     "output_type": "execute_result"
    }
   ],
   "source": [
    "accuracy_score(Y_test, Y_pred_rfc_2)"
   ]
  },
  {
   "cell_type": "code",
   "execution_count": 33,
   "id": "2da128ab",
   "metadata": {},
   "outputs": [],
   "source": [
    "from sklearn.neural_network import MLPClassifier"
   ]
  },
  {
   "cell_type": "code",
   "execution_count": 34,
   "id": "a3ff37cb",
   "metadata": {},
   "outputs": [],
   "source": [
    "mlp = MLPClassifier(hidden_layer_sizes=(20,4), activation='relu', solver='adam', verbose=True)"
   ]
  },
  {
   "cell_type": "code",
   "execution_count": 35,
   "id": "f33d64c5",
   "metadata": {},
   "outputs": [
    {
     "name": "stderr",
     "output_type": "stream",
     "text": [
      "C:\\ProgramData\\Anaconda3\\lib\\site-packages\\sklearn\\utils\\validation.py:63: DataConversionWarning: A column-vector y was passed when a 1d array was expected. Please change the shape of y to (n_samples, ), for example using ravel().\n",
      "  return f(*args, **kwargs)\n"
     ]
    },
    {
     "name": "stdout",
     "output_type": "stream",
     "text": [
      "Iteration 1, loss = 17.20262574\n",
      "Iteration 2, loss = 16.50440691\n",
      "Iteration 3, loss = 14.32070814\n",
      "Iteration 4, loss = 8.56318800\n",
      "Iteration 5, loss = 6.43628992\n",
      "Iteration 6, loss = 7.27693038\n",
      "Iteration 7, loss = 5.37122561\n",
      "Iteration 8, loss = 5.47455471\n",
      "Iteration 9, loss = 5.29313873\n",
      "Iteration 10, loss = 5.41687387\n",
      "Iteration 11, loss = 5.75486154\n",
      "Iteration 12, loss = 5.71490848\n",
      "Iteration 13, loss = 5.34640827\n",
      "Iteration 14, loss = 5.46148377\n",
      "Iteration 15, loss = 6.09176226\n",
      "Iteration 16, loss = 4.15876540\n",
      "Iteration 17, loss = 4.59323302\n",
      "Iteration 18, loss = 4.71961197\n",
      "Iteration 19, loss = 4.64828256\n",
      "Iteration 20, loss = 4.68818254\n",
      "Iteration 21, loss = 6.73295454\n",
      "Iteration 22, loss = 4.41963586\n",
      "Iteration 23, loss = 4.05019761\n",
      "Iteration 24, loss = 5.11407613\n",
      "Iteration 25, loss = 3.67466124\n",
      "Iteration 26, loss = 4.23288630\n",
      "Iteration 27, loss = 4.90341919\n",
      "Iteration 28, loss = 4.69306214\n",
      "Iteration 29, loss = 3.89848731\n",
      "Iteration 30, loss = 4.81757206\n",
      "Iteration 31, loss = 4.79073996\n",
      "Iteration 32, loss = 5.04476580\n",
      "Iteration 33, loss = 3.09374668\n",
      "Iteration 34, loss = 4.83213456\n",
      "Iteration 35, loss = 5.40947233\n",
      "Iteration 36, loss = 4.12238865\n",
      "Iteration 37, loss = 2.64605746\n",
      "Iteration 38, loss = 5.09804610\n",
      "Iteration 39, loss = 3.09921306\n",
      "Iteration 40, loss = 4.66382233\n",
      "Iteration 41, loss = 2.53506908\n",
      "Iteration 42, loss = 5.96119159\n",
      "Iteration 43, loss = 4.54851170\n",
      "Iteration 44, loss = 3.13770321\n",
      "Iteration 45, loss = 3.79368458\n",
      "Iteration 46, loss = 4.35453995\n",
      "Iteration 47, loss = 2.73313799\n",
      "Iteration 48, loss = 3.06564079\n",
      "Iteration 49, loss = 3.80730847\n",
      "Iteration 50, loss = 2.95789841\n",
      "Iteration 51, loss = 4.94198199\n",
      "Iteration 52, loss = 4.67446717\n",
      "Training loss did not improve more than tol=0.000100 for 10 consecutive epochs. Stopping.\n"
     ]
    },
    {
     "data": {
      "text/plain": [
       "MLPClassifier(hidden_layer_sizes=(20, 4), verbose=True)"
      ]
     },
     "execution_count": 35,
     "metadata": {},
     "output_type": "execute_result"
    }
   ],
   "source": [
    "mlp.fit(X_train, Y_train)"
   ]
  },
  {
   "cell_type": "code",
   "execution_count": 36,
   "id": "dff0a0c2",
   "metadata": {},
   "outputs": [],
   "source": [
    "Y_pred_nn = mlp.predict(X_test)"
   ]
  },
  {
   "cell_type": "code",
   "execution_count": 37,
   "id": "188099b2",
   "metadata": {},
   "outputs": [
    {
     "data": {
      "text/plain": [
       "0.7135938004520503"
      ]
     },
     "execution_count": 37,
     "metadata": {},
     "output_type": "execute_result"
    }
   ],
   "source": [
    "accuracy_score(Y_test, Y_pred_nn)"
   ]
  },
  {
   "cell_type": "code",
   "execution_count": null,
   "id": "555ef127",
   "metadata": {},
   "outputs": [],
   "source": []
  }
 ],
 "metadata": {
  "kernelspec": {
   "display_name": "Python 3",
   "language": "python",
   "name": "python3"
  },
  "language_info": {
   "codemirror_mode": {
    "name": "ipython",
    "version": 3
   },
   "file_extension": ".py",
   "mimetype": "text/x-python",
   "name": "python",
   "nbconvert_exporter": "python",
   "pygments_lexer": "ipython3",
   "version": "3.8.8"
  }
 },
 "nbformat": 4,
 "nbformat_minor": 5
}
